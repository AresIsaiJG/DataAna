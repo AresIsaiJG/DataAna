{
 "cells": [
  {
   "cell_type": "code",
   "execution_count": 2,
   "id": "2a316b4c-f710-44b4-89c6-b3aea063109f",
   "metadata": {},
   "outputs": [],
   "source": [
    "from paquete_mooc import operaciones"
   ]
  },
  {
   "cell_type": "code",
   "execution_count": 3,
   "id": "0d425d37-63d3-4779-8d90-762e70c84b9b",
   "metadata": {},
   "outputs": [
    {
     "data": {
      "text/plain": [
       "3"
      ]
     },
     "execution_count": 3,
     "metadata": {},
     "output_type": "execute_result"
    }
   ],
   "source": [
    "operaciones.suma_numeros(1,2)"
   ]
  },
  {
   "cell_type": "code",
   "execution_count": 4,
   "id": "feabdef7-219e-4ee1-a2ae-7b0698d69dfc",
   "metadata": {},
   "outputs": [
    {
     "data": {
      "text/plain": [
       "0"
      ]
     },
     "execution_count": 4,
     "metadata": {},
     "output_type": "execute_result"
    }
   ],
   "source": [
    "operaciones.resta_numeros(1,1)"
   ]
  }
 ],
 "metadata": {
  "kernelspec": {
   "display_name": "Python 3 (ipykernel)",
   "language": "python",
   "name": "python3"
  },
  "language_info": {
   "codemirror_mode": {
    "name": "ipython",
    "version": 3
   },
   "file_extension": ".py",
   "mimetype": "text/x-python",
   "name": "python",
   "nbconvert_exporter": "python",
   "pygments_lexer": "ipython3",
   "version": "3.13.7"
  }
 },
 "nbformat": 4,
 "nbformat_minor": 5
}
