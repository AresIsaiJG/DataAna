{
 "cells": [
  {
   "cell_type": "code",
   "execution_count": null,
   "id": "2a316b4c-f710-44b4-89c6-b3aea063109f",
   "metadata": {},
   "outputs": [],
   "source": []
  }
 ],
 "metadata": {
  "kernelspec": {
   "display_name": "",
   "name": ""
  },
  "language_info": {
   "name": ""
  }
 },
 "nbformat": 4,
 "nbformat_minor": 5
}
